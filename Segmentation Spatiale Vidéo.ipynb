{
 "cells": [
  {
   "cell_type": "code",
   "execution_count": 1,
   "metadata": {
    "collapsed": true
   },
   "outputs": [],
   "source": [
    "import cv2\n",
    "video = cv2.VideoCapture(\"my_video.mp4\")"
   ]
  },
  {
   "cell_type": "code",
   "execution_count": 2,
   "outputs": [],
   "source": [
    "width = video.get(cv2.CAP_PROP_FRAME_WIDTH )\n",
    "height = video.get(cv2.CAP_PROP_FRAME_HEIGHT )\n",
    "fps =  video.get(cv2.CAP_PROP_FPS)\n",
    "num_frames=video.get(cv2.CAP_PROP_FRAME_COUNT)"
   ],
   "metadata": {
    "collapsed": false,
    "pycharm": {
     "name": "#%%\n"
    }
   }
  },
  {
   "cell_type": "code",
   "execution_count": 3,
   "outputs": [
    {
     "data": {
      "text/plain": "[1280.0, 720.0, 109.0, 30.0]"
     },
     "execution_count": 3,
     "metadata": {},
     "output_type": "execute_result"
    }
   ],
   "source": [
    "[width,height,num_frames,fps]"
   ],
   "metadata": {
    "collapsed": false,
    "pycharm": {
     "name": "#%%\n"
    }
   }
  },
  {
   "cell_type": "code",
   "execution_count": 18,
   "outputs": [
    {
     "ename": "error",
     "evalue": "OpenCV(4.6.0) D:\\a\\opencv-python\\opencv-python\\opencv\\modules\\imgcodecs\\src\\loadsave.cpp:801: error: (-215:Assertion failed) !_img.empty() in function 'cv::imwrite'\n",
     "output_type": "error",
     "traceback": [
      "\u001B[1;31m---------------------------------------------------------------------------\u001B[0m",
      "\u001B[1;31merror\u001B[0m                                     Traceback (most recent call last)",
      "Input \u001B[1;32mIn [18]\u001B[0m, in \u001B[0;36m<module>\u001B[1;34m\u001B[0m\n\u001B[0;32m      4\u001B[0m \u001B[38;5;28;01mwhile\u001B[39;00m success:\n\u001B[0;32m      5\u001B[0m \tsuccess, image \u001B[38;5;241m=\u001B[39m video\u001B[38;5;241m.\u001B[39mread()\n\u001B[1;32m----> 6\u001B[0m \t\u001B[43mcv2\u001B[49m\u001B[38;5;241;43m.\u001B[39;49m\u001B[43mimwrite\u001B[49m\u001B[43m(\u001B[49m\u001B[38;5;124;43m\"\u001B[39;49m\u001B[38;5;124;43mframe\u001B[39;49m\u001B[38;5;132;43;01m%d\u001B[39;49;00m\u001B[38;5;124;43m.jpg\u001B[39;49m\u001B[38;5;124;43m\"\u001B[39;49m\u001B[43m \u001B[49m\u001B[38;5;241;43m%\u001B[39;49m\u001B[43m \u001B[49m\u001B[43mcount\u001B[49m\u001B[43m,\u001B[49m\u001B[43m \u001B[49m\u001B[43mimage\u001B[49m\u001B[43m)\u001B[49m\n\u001B[0;32m      9\u001B[0m \tcount \u001B[38;5;241m+\u001B[39m\u001B[38;5;241m=\u001B[39m \u001B[38;5;241m1\u001B[39m\n\u001B[0;32m     10\u001B[0m video\u001B[38;5;241m.\u001B[39mrelease()\n",
      "\u001B[1;31merror\u001B[0m: OpenCV(4.6.0) D:\\a\\opencv-python\\opencv-python\\opencv\\modules\\imgcodecs\\src\\loadsave.cpp:801: error: (-215:Assertion failed) !_img.empty() in function 'cv::imwrite'\n"
     ]
    }
   ],
   "source": [
    "count = 0\n",
    "success = 1\n",
    "if video.isOpened():\n",
    "\twhile success:\n",
    "\t\tsuccess, image = video.read()\n",
    "\t\tcv2.imwrite(\"frame%d.jpg\" % count, image)\n",
    "\n",
    "\n",
    "\t\tcount += 1\n",
    "\tvideo.release()\n",
    "cv2.destroyAllWindows()"
   ],
   "metadata": {
    "collapsed": false,
    "pycharm": {
     "name": "#%%\n"
    }
   }
  },
  {
   "cell_type": "code",
   "execution_count": 23,
   "outputs": [
    {
     "ename": "error",
     "evalue": "OpenCV(4.6.0) D:\\a\\opencv-python\\opencv-python\\opencv\\modules\\imgcodecs\\src\\loadsave.cpp:801: error: (-215:Assertion failed) !_img.empty() in function 'cv::imwrite'\n",
     "output_type": "error",
     "traceback": [
      "\u001B[1;31m---------------------------------------------------------------------------\u001B[0m",
      "\u001B[1;31merror\u001B[0m                                     Traceback (most recent call last)",
      "Input \u001B[1;32mIn [23]\u001B[0m, in \u001B[0;36m<module>\u001B[1;34m\u001B[0m\n\u001B[0;32m     11\u001B[0m success, image \u001B[38;5;241m=\u001B[39m video\u001B[38;5;241m.\u001B[39mread()\n\u001B[0;32m     13\u001B[0m \u001B[38;5;66;03m# Saves the frames with frame-count\u001B[39;00m\n\u001B[1;32m---> 14\u001B[0m \u001B[43mcv2\u001B[49m\u001B[38;5;241;43m.\u001B[39;49m\u001B[43mimwrite\u001B[49m\u001B[43m(\u001B[49m\u001B[38;5;124;43m\"\u001B[39;49m\u001B[38;5;124;43mframe\u001B[39;49m\u001B[38;5;132;43;01m%d\u001B[39;49;00m\u001B[38;5;124;43m.jpg\u001B[39;49m\u001B[38;5;124;43m\"\u001B[39;49m\u001B[43m \u001B[49m\u001B[38;5;241;43m%\u001B[39;49m\u001B[43m \u001B[49m\u001B[43mcount\u001B[49m\u001B[43m,\u001B[49m\u001B[43m \u001B[49m\u001B[43mimage\u001B[49m\u001B[43m)\u001B[49m\n\u001B[0;32m     15\u001B[0m \u001B[38;5;28;01mif\u001B[39;00m count \u001B[38;5;241m%\u001B[39m fps\u001B[38;5;241m*\u001B[39m\u001B[38;5;241m0.5\u001B[39m\u001B[38;5;241m==\u001B[39m\u001B[38;5;241m0\u001B[39m:\n\u001B[0;32m     16\u001B[0m \tcv2\u001B[38;5;241m.\u001B[39mimshow(\u001B[38;5;124m'\u001B[39m\u001B[38;5;124mimage\u001B[39m\u001B[38;5;124m'\u001B[39m,image)\n",
      "\u001B[1;31merror\u001B[0m: OpenCV(4.6.0) D:\\a\\opencv-python\\opencv-python\\opencv\\modules\\imgcodecs\\src\\loadsave.cpp:801: error: (-215:Assertion failed) !_img.empty() in function 'cv::imwrite'\n"
     ]
    }
   ],
   "source": [
    "# Used as counter variable\n",
    "count = 0\n",
    "\n",
    "# checks whether frames were extracted\n",
    "success = 1\n",
    "\n",
    "while success:\n",
    "\n",
    "\t# vidObj object calls read\n",
    "\t# function extract frames\n",
    "\tsuccess, image = video.read()\n",
    "\n",
    "\t# Saves the frames with frame-count\n",
    "\tcv2.imwrite(\"frame%d.jpg\" % count, image)\n",
    "\tif count % fps*0.5==0:\n",
    "\t\tcv2.imshow('image',image)\n",
    "\n",
    "\tcount += 1\n",
    "video.release()\n",
    "cv2.destroyAllWindows()"
   ],
   "metadata": {
    "collapsed": false,
    "pycharm": {
     "name": "#%%\n"
    }
   }
  },
  {
   "cell_type": "code",
   "execution_count": 3,
   "outputs": [
    {
     "ename": "error",
     "evalue": "OpenCV(4.6.0) D:\\a\\opencv-python\\opencv-python\\opencv\\modules\\imgproc\\src\\color.cpp:182: error: (-215:Assertion failed) !_src.empty() in function 'cv::cvtColor'\n",
     "output_type": "error",
     "traceback": [
      "\u001B[1;31m---------------------------------------------------------------------------\u001B[0m",
      "\u001B[1;31merror\u001B[0m                                     Traceback (most recent call last)",
      "Input \u001B[1;32mIn [3]\u001B[0m, in \u001B[0;36m<module>\u001B[1;34m\u001B[0m\n\u001B[0;32m      7\u001B[0m \u001B[38;5;28;01mwhile\u001B[39;00m success:\n\u001B[0;32m      8\u001B[0m \n\u001B[0;32m      9\u001B[0m \t\u001B[38;5;66;03m# vidObj object calls read\u001B[39;00m\n\u001B[0;32m     10\u001B[0m \t\u001B[38;5;66;03m# function extract frames\u001B[39;00m\n\u001B[0;32m     11\u001B[0m \tsuccess, image \u001B[38;5;241m=\u001B[39m video\u001B[38;5;241m.\u001B[39mread()\n\u001B[1;32m---> 12\u001B[0m \tgrayscale\u001B[38;5;241m=\u001B[39m\u001B[43mcv2\u001B[49m\u001B[38;5;241;43m.\u001B[39;49m\u001B[43mcvtColor\u001B[49m\u001B[43m(\u001B[49m\u001B[43mimage\u001B[49m\u001B[43m,\u001B[49m\u001B[43mcv2\u001B[49m\u001B[38;5;241;43m.\u001B[39;49m\u001B[43mCOLOR_BGR2GRAY\u001B[49m\u001B[43m)\u001B[49m\n\u001B[0;32m     13\u001B[0m \tcv2\u001B[38;5;241m.\u001B[39mimshow(\u001B[38;5;124m'\u001B[39m\u001B[38;5;124mGrayscale\u001B[39m\u001B[38;5;124m'\u001B[39m, grayscale)\n\u001B[0;32m     15\u001B[0m \t\u001B[38;5;66;03m# Saves the frames with frame-count\u001B[39;00m\n",
      "\u001B[1;31merror\u001B[0m: OpenCV(4.6.0) D:\\a\\opencv-python\\opencv-python\\opencv\\modules\\imgproc\\src\\color.cpp:182: error: (-215:Assertion failed) !_src.empty() in function 'cv::cvtColor'\n"
     ]
    }
   ],
   "source": [
    "# Used as counter variable\n",
    "count = 0\n",
    "\n",
    "# checks whether frames were extracted\n",
    "success = 1\n",
    "\n",
    "while success:\n",
    "\n",
    "\t# vidObj object calls read\n",
    "\t# function extract frames\n",
    "\tsuccess, image = video.read()\n",
    "\tgrayscale=cv2.cvtColor(image,cv2.COLOR_BGR2GRAY)\n",
    "\tcv2.imshow('Grayscale', grayscale)\n",
    "\n",
    "\t# Saves the frames with frame-count\n",
    "\tcv2.imwrite(\"frame_gray%d.jpg\" % count, grayscale)\n",
    "\n",
    "\n",
    "\tcount += 1\n",
    "video.release()\n",
    "cv2.destroyAllWindows()"
   ],
   "metadata": {
    "collapsed": false,
    "pycharm": {
     "name": "#%%\n"
    }
   }
  },
  {
   "cell_type": "code",
   "execution_count": null,
   "outputs": [],
   "source": [
    "#implémenter seuillage global heuristique\n",
    "\n"
   ],
   "metadata": {
    "collapsed": false,
    "pycharm": {
     "name": "#%%\n"
    }
   }
  }
 ],
 "metadata": {
  "kernelspec": {
   "display_name": "Python 3",
   "language": "python",
   "name": "python3"
  },
  "language_info": {
   "codemirror_mode": {
    "name": "ipython",
    "version": 2
   },
   "file_extension": ".py",
   "mimetype": "text/x-python",
   "name": "python",
   "nbconvert_exporter": "python",
   "pygments_lexer": "ipython2",
   "version": "2.7.6"
  }
 },
 "nbformat": 4,
 "nbformat_minor": 0
}