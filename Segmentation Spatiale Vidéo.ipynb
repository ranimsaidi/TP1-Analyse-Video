{
 "cells": [
  {
   "cell_type": "code",
   "execution_count": 6,
   "metadata": {
    "collapsed": true
   },
   "outputs": [],
   "source": [
    "import cv2\n",
    "import os\n",
    "from matplotlib import pyplot as plt\n",
    "video = cv2.VideoCapture(\"video_Trim.mp4\")"
   ]
  },
  {
   "cell_type": "code",
   "execution_count": 7,
   "outputs": [],
   "source": [
    "width = video.get(cv2.CAP_PROP_FRAME_WIDTH )\n",
    "height = video.get(cv2.CAP_PROP_FRAME_HEIGHT )\n",
    "fps =  video.get(cv2.CAP_PROP_FPS)\n",
    "num_frames=video.get(cv2.CAP_PROP_FRAME_COUNT)"
   ],
   "metadata": {
    "collapsed": false,
    "pycharm": {
     "name": "#%%\n"
    }
   }
  },
  {
   "cell_type": "code",
   "source": [
    "[width,height,num_frames,fps]"
   ],
   "metadata": {
    "collapsed": false,
    "pycharm": {
     "name": "#%%\n"
    }
   },
   "execution_count": 9,
   "outputs": [
    {
     "data": {
      "text/plain": "[1280.0, 720.0, 92.0, 30.0]"
     },
     "execution_count": 9,
     "metadata": {},
     "output_type": "execute_result"
    }
   ]
  },
  {
   "cell_type": "markdown",
   "source": [
    "Extract and save frames from the video"
   ],
   "metadata": {
    "collapsed": false,
    "pycharm": {
     "name": "#%% md\n"
    }
   }
  },
  {
   "cell_type": "code",
   "execution_count": 17,
   "outputs": [
    {
     "name": "stdout",
     "output_type": "stream",
     "text": [
      "Creating frame0\n",
      "Creating frame1\n",
      "Creating frame2\n",
      "Creating frame3\n",
      "Creating frame4\n",
      "Creating frame5\n",
      "Creating frame6\n",
      "Creating frame7\n",
      "Creating frame8\n",
      "Creating frame9\n",
      "Creating frame10\n",
      "Creating frame11\n",
      "Creating frame12\n",
      "Creating frame13\n",
      "Creating frame14\n",
      "Creating frame15\n",
      "Creating frame16\n",
      "Creating frame17\n",
      "Creating frame18\n",
      "Creating frame19\n",
      "Creating frame20\n",
      "Creating frame21\n",
      "Creating frame22\n",
      "Creating frame23\n",
      "Creating frame24\n",
      "Creating frame25\n",
      "Creating frame26\n",
      "Creating frame27\n",
      "Creating frame28\n",
      "Creating frame29\n",
      "Creating frame30\n",
      "Creating frame31\n",
      "Creating frame32\n",
      "Creating frame33\n",
      "Creating frame34\n",
      "Creating frame35\n",
      "Creating frame36\n",
      "Creating frame37\n",
      "Creating frame38\n",
      "Creating frame39\n",
      "Creating frame40\n",
      "Creating frame41\n",
      "Creating frame42\n",
      "Creating frame43\n",
      "Creating frame44\n",
      "Creating frame45\n",
      "Creating frame46\n",
      "Creating frame47\n",
      "Creating frame48\n",
      "Creating frame49\n",
      "Creating frame50\n",
      "Creating frame51\n",
      "Creating frame52\n",
      "Creating frame53\n",
      "Creating frame54\n",
      "Creating frame55\n",
      "Creating frame56\n",
      "Creating frame57\n",
      "Creating frame58\n",
      "Creating frame59\n",
      "Creating frame60\n",
      "Creating frame61\n",
      "Creating frame62\n",
      "Creating frame63\n",
      "Creating frame64\n",
      "Creating frame65\n",
      "Creating frame66\n",
      "Creating frame67\n",
      "Creating frame68\n",
      "Creating frame69\n",
      "Creating frame70\n",
      "Creating frame71\n",
      "Creating frame72\n",
      "Creating frame73\n",
      "Creating frame74\n",
      "Creating frame75\n",
      "Creating frame76\n",
      "Creating frame77\n",
      "Creating frame78\n",
      "Creating frame79\n",
      "Creating frame80\n",
      "Creating frame81\n",
      "Creating frame82\n",
      "Creating frame83\n",
      "Creating frame84\n",
      "Creating frame85\n",
      "Creating frame86\n",
      "Creating frame87\n",
      "Creating frame88\n",
      "Creating frame89\n",
      "Creating frame90\n",
      "Creating frame91\n"
     ]
    }
   ],
   "source": [
    "count = 0\n",
    "\n",
    "while(True):\n",
    "\n",
    "\t# reading from frame\n",
    "\tret,frame = video.read()\n",
    "\n",
    "\tif ret:\n",
    "\t\t# if video is still left continue creating images\n",
    "\n",
    "\t\tprint ('Creating frame' + str(count))\n",
    "\n",
    "\t\t# writing the extracted images\n",
    "\t\tcv2.imwrite(\"frame%d.jpg\" % count, frame)\n",
    "\n",
    "\t\t# increasing counter so that it will\n",
    "\t\t# show how many frames are created\n",
    "\t\tcount += 1\n",
    "\telse:\n",
    "\t\tbreak\n",
    "video.release()\n",
    "cv2.destroyAllWindows()"
   ],
   "metadata": {
    "collapsed": false,
    "pycharm": {
     "name": "#%%\n"
    }
   }
  },
  {
   "cell_type": "markdown",
   "source": [
    "Show a frame every 50ms"
   ],
   "metadata": {
    "collapsed": false,
    "pycharm": {
     "name": "#%% md\n"
    }
   }
  },
  {
   "cell_type": "code",
   "execution_count": 8,
   "outputs": [
    {
     "ename": "AttributeError",
     "evalue": "module 'cv2' has no attribute 'destroyAllwindows'",
     "output_type": "error",
     "traceback": [
      "\u001B[1;31m---------------------------------------------------------------------------\u001B[0m",
      "\u001B[1;31mAttributeError\u001B[0m                            Traceback (most recent call last)",
      "Input \u001B[1;32mIn [8]\u001B[0m, in \u001B[0;36m<module>\u001B[1;34m\u001B[0m\n\u001B[0;32m     13\u001B[0m \t\tcv2\u001B[38;5;241m.\u001B[39mimshow(\u001B[38;5;124m'\u001B[39m\u001B[38;5;124mimage\u001B[39m\u001B[38;5;124m'\u001B[39m,frame)\n\u001B[0;32m     14\u001B[0m \t\tcv2\u001B[38;5;241m.\u001B[39mwaitKey(\u001B[38;5;241m0\u001B[39m)\n\u001B[1;32m---> 15\u001B[0m \t\t\u001B[43mcv2\u001B[49m\u001B[38;5;241;43m.\u001B[39;49m\u001B[43mdestroyAllwindows\u001B[49m()\n\u001B[0;32m     18\u001B[0m \tcount \u001B[38;5;241m+\u001B[39m\u001B[38;5;241m=\u001B[39m \u001B[38;5;241m1\u001B[39m\n\u001B[0;32m     19\u001B[0m \u001B[38;5;28;01melse\u001B[39;00m:\n",
      "\u001B[1;31mAttributeError\u001B[0m: module 'cv2' has no attribute 'destroyAllwindows'"
     ]
    }
   ],
   "source": [
    "count = 0\n",
    "\n",
    "while(True):\n",
    "\n",
    "\t# reading from frame\n",
    "\tret,frame = video.read()\n",
    "\n",
    "\tif ret:\n",
    "\n",
    "\t\tif count % (fps*0.5)==0:\n",
    "\n",
    "\n",
    "\t\t\tcv2.imshow('image',frame)\n",
    "\t\t\tcv2.waitKey(0)\n",
    "\t\t\tcv2.destroyAllwindows()\n",
    "\n",
    "\n",
    "\t\tcount += 1\n",
    "\telse:\n",
    "\t\tbreak\n",
    "video.release()\n",
    "cv2.destroyAllWindows()\n",
    "\n"
   ],
   "metadata": {
    "collapsed": false,
    "pycharm": {
     "name": "#%%\n"
    }
   }
  },
  {
   "cell_type": "markdown",
   "source": [
    "Grayscale frames"
   ],
   "metadata": {
    "collapsed": false,
    "pycharm": {
     "name": "#%% md\n"
    }
   }
  },
  {
   "cell_type": "code",
   "execution_count": 10,
   "outputs": [
    {
     "name": "stdout",
     "output_type": "stream",
     "text": [
      "Creating grayscale frame 0\n",
      "Creating grayscale frame 1\n",
      "Creating grayscale frame 2\n",
      "Creating grayscale frame 3\n",
      "Creating grayscale frame 4\n",
      "Creating grayscale frame 5\n",
      "Creating grayscale frame 6\n",
      "Creating grayscale frame 7\n",
      "Creating grayscale frame 8\n",
      "Creating grayscale frame 9\n",
      "Creating grayscale frame 10\n",
      "Creating grayscale frame 11\n",
      "Creating grayscale frame 12\n",
      "Creating grayscale frame 13\n",
      "Creating grayscale frame 14\n",
      "Creating grayscale frame 15\n",
      "Creating grayscale frame 16\n",
      "Creating grayscale frame 17\n",
      "Creating grayscale frame 18\n",
      "Creating grayscale frame 19\n",
      "Creating grayscale frame 20\n",
      "Creating grayscale frame 21\n",
      "Creating grayscale frame 22\n",
      "Creating grayscale frame 23\n",
      "Creating grayscale frame 24\n",
      "Creating grayscale frame 25\n",
      "Creating grayscale frame 26\n",
      "Creating grayscale frame 27\n",
      "Creating grayscale frame 28\n",
      "Creating grayscale frame 29\n",
      "Creating grayscale frame 30\n",
      "Creating grayscale frame 31\n",
      "Creating grayscale frame 32\n",
      "Creating grayscale frame 33\n",
      "Creating grayscale frame 34\n",
      "Creating grayscale frame 35\n",
      "Creating grayscale frame 36\n",
      "Creating grayscale frame 37\n",
      "Creating grayscale frame 38\n",
      "Creating grayscale frame 39\n",
      "Creating grayscale frame 40\n",
      "Creating grayscale frame 41\n",
      "Creating grayscale frame 42\n",
      "Creating grayscale frame 43\n",
      "Creating grayscale frame 44\n",
      "Creating grayscale frame 45\n",
      "Creating grayscale frame 46\n",
      "Creating grayscale frame 47\n",
      "Creating grayscale frame 48\n",
      "Creating grayscale frame 49\n",
      "Creating grayscale frame 50\n",
      "Creating grayscale frame 51\n",
      "Creating grayscale frame 52\n",
      "Creating grayscale frame 53\n",
      "Creating grayscale frame 54\n",
      "Creating grayscale frame 55\n",
      "Creating grayscale frame 56\n",
      "Creating grayscale frame 57\n",
      "Creating grayscale frame 58\n",
      "Creating grayscale frame 59\n",
      "Creating grayscale frame 60\n",
      "Creating grayscale frame 61\n",
      "Creating grayscale frame 62\n",
      "Creating grayscale frame 63\n",
      "Creating grayscale frame 64\n",
      "Creating grayscale frame 65\n",
      "Creating grayscale frame 66\n",
      "Creating grayscale frame 67\n",
      "Creating grayscale frame 68\n",
      "Creating grayscale frame 69\n",
      "Creating grayscale frame 70\n",
      "Creating grayscale frame 71\n",
      "Creating grayscale frame 72\n",
      "Creating grayscale frame 73\n",
      "Creating grayscale frame 74\n",
      "Creating grayscale frame 75\n",
      "Creating grayscale frame 76\n",
      "Creating grayscale frame 77\n",
      "Creating grayscale frame 78\n",
      "Creating grayscale frame 79\n",
      "Creating grayscale frame 80\n",
      "Creating grayscale frame 81\n",
      "Creating grayscale frame 82\n",
      "Creating grayscale frame 83\n",
      "Creating grayscale frame 84\n",
      "Creating grayscale frame 85\n",
      "Creating grayscale frame 86\n",
      "Creating grayscale frame 87\n",
      "Creating grayscale frame 88\n",
      "Creating grayscale frame 89\n",
      "Creating grayscale frame 90\n"
     ]
    }
   ],
   "source": [
    "# Used as counter variable\n",
    "count = 0\n",
    "\n",
    "while(True):\n",
    "\n",
    "\t# reading from frame\n",
    "\tret,frame = video.read()\n",
    "\n",
    "\tif ret:\n",
    "\t\t# if video is still left continue creating images\n",
    "\n",
    "\t\tprint ('Creating grayscale frame ' + str(count))\n",
    "\n",
    "\t\t# writing the extracted images\n",
    "\t\tgrayscale=cv2.cvtColor(frame,cv2.COLOR_BGR2GRAY)\n",
    "\n",
    "\n",
    "\t\t# Saves the frames with frame-count\n",
    "\t\tcv2.imwrite(\"frame_gray%d.jpg\" % count, grayscale)\n",
    "\n",
    "\t\t# increasing counter so that it will\n",
    "\t\t# show how many frames are created\n",
    "\t\tcount += 1\n",
    "\telse:\n",
    "\t\tbreak\n",
    "video.release()\n",
    "cv2.destroyAllWindows()\n",
    "\n",
    "\n"
   ],
   "metadata": {
    "collapsed": false,
    "pycharm": {
     "name": "#%%\n"
    }
   }
  },
  {
   "cell_type": "markdown",
   "source": [
    "Heuristic Thresholding"
   ],
   "metadata": {
    "collapsed": false,
    "pycharm": {
     "name": "#%% md\n"
    }
   }
  },
  {
   "cell_type": "code",
   "execution_count": null,
   "outputs": [],
   "source": [],
   "metadata": {
    "collapsed": false,
    "pycharm": {
     "name": "#%%\n"
    }
   }
  }
 ],
 "metadata": {
  "kernelspec": {
   "display_name": "Python 3",
   "language": "python",
   "name": "python3"
  },
  "language_info": {
   "codemirror_mode": {
    "name": "ipython",
    "version": 2
   },
   "file_extension": ".py",
   "mimetype": "text/x-python",
   "name": "python",
   "nbconvert_exporter": "python",
   "pygments_lexer": "ipython2",
   "version": "2.7.6"
  }
 },
 "nbformat": 4,
 "nbformat_minor": 0
}